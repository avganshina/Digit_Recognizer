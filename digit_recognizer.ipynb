{
  "nbformat": 4,
  "nbformat_minor": 0,
  "metadata": {
    "colab": {
      "name": "digit_recognizer.ipynb",
      "provenance": [],
      "toc_visible": true,
      "authorship_tag": "ABX9TyO+4WTGCuehV6sQBBWmfYxY",
      "include_colab_link": true
    },
    "kernelspec": {
      "name": "python3",
      "display_name": "Python 3"
    }
  },
  "cells": [
    {
      "cell_type": "markdown",
      "metadata": {
        "id": "view-in-github",
        "colab_type": "text"
      },
      "source": [
        "<a href=\"https://colab.research.google.com/github/avganshina/Digit_Recognizer/blob/main/digit_recognizer.ipynb\" target=\"_parent\"><img src=\"https://colab.research.google.com/assets/colab-badge.svg\" alt=\"Open In Colab\"/></a>"
      ]
    },
    {
      "cell_type": "markdown",
      "metadata": {
        "id": "XDwFlG-5RM6L"
      },
      "source": [
        "## **Digit Recognizer by Anastasia Ganshina**\r\n",
        "\r\n",
        "---\r\n",
        "\r\n",
        "\r\n",
        "\r\n",
        "\r\n"
      ]
    },
    {
      "cell_type": "markdown",
      "metadata": {
        "id": "ctAM-pM_RjWo"
      },
      "source": [
        "1. Import Necessary Packages\r\n"
      ]
    },
    {
      "cell_type": "code",
      "metadata": {
        "id": "0FSYohmqcchC"
      },
      "source": [
        "from keras.models import Sequential\r\n",
        "from keras.layers import Dense, Conv2D, Flatten\r\n",
        "from keras.datasets import mnist\r\n",
        "from keras.utils import to_categorical\r\n",
        "import numpy as np\r\n",
        "import matplotlib.pyplot as plt\r\n",
        "import imageio\r\n",
        "import random"
      ],
      "execution_count": 77,
      "outputs": []
    },
    {
      "cell_type": "markdown",
      "metadata": {
        "id": "vGXtZwXFRn4G"
      },
      "source": [
        "2. Load and Visualize Dataset"
      ]
    },
    {
      "cell_type": "code",
      "metadata": {
        "id": "PmffKS4idRXY"
      },
      "source": [
        "# loading data to train and test sets\r\n",
        "(X_train, y_train), (X_test, y_test) = mnist.load_data()"
      ],
      "execution_count": 31,
      "outputs": []
    },
    {
      "cell_type": "code",
      "metadata": {
        "colab": {
          "base_uri": "https://localhost:8080/"
        },
        "id": "rF7ZjLw5VaoR",
        "outputId": "e5a6ea9b-d851-4186-bd19-549288cb3f42"
      },
      "source": [
        "print('The train dataset has',len(X_train),'images.')\r\n",
        "print('The test dataset has',len(X_test),'images.')"
      ],
      "execution_count": 32,
      "outputs": [
        {
          "output_type": "stream",
          "text": [
            "The train dataset has 60000 images.\n",
            "The test dataset has 10000 images.\n"
          ],
          "name": "stdout"
        }
      ]
    },
    {
      "cell_type": "code",
      "metadata": {
        "colab": {
          "base_uri": "https://localhost:8080/",
          "height": 1000
        },
        "id": "yvn04I1zIZR5",
        "outputId": "8194ae46-03e9-4bc9-b6dc-97464cea906c"
      },
      "source": [
        "# Visualize the images\r\n",
        "for image_index in range (0,4):\r\n",
        "  print(y_train[image_index])\r\n",
        "  plt.imshow(X_train[image_index], cmap='Greys')\r\n",
        "  plt.show()"
      ],
      "execution_count": 33,
      "outputs": [
        {
          "output_type": "stream",
          "text": [
            "5\n"
          ],
          "name": "stdout"
        },
        {
          "output_type": "display_data",
          "data": {
            "image/png": "[encoded data removed]",
            "text/plain": [
              "<Figure size 432x288 with 1 Axes>"
            ]
          },
          "metadata": {
            "tags": [],
            "needs_background": "light"
          }
        },
        {
          "output_type": "stream",
          "text": [
            "0\n"
          ],
          "name": "stdout"
        },
        {
          "output_type": "display_data",
          "data": {
            "image/png": "[encoded data removed]",
            "text/plain": [
              "<Figure size 432x288 with 1 Axes>"
            ]
          },
          "metadata": {
            "tags": [],
            "needs_background": "light"
          }
        },
        {
          "output_type": "stream",
          "text": [
            "4\n"
          ],
          "name": "stdout"
        },
        {
          "output_type": "display_data",
          "data": {
            "image/png": "[encoded data removed]",
            "text/plain": [
              "<Figure size 432x288 with 1 Axes>"
            ]
          },
          "metadata": {
            "tags": [],
            "needs_background": "light"
          }
        },
        {
          "output_type": "stream",
          "text": [
            "1\n"
          ],
          "name": "stdout"
        },
        {
          "output_type": "display_data",
          "data": {
            "image/png": "[encoded data removed]",
            "text/plain": [
              "<Figure size 432x288 with 1 Axes>"
            ]
          },
          "metadata": {
            "tags": [],
            "needs_background": "light"
          }
        }
      ]
    },
    {
      "cell_type": "markdown",
      "metadata": {
        "id": "S42q9PDzTLlQ"
      },
      "source": [
        "3. Designing the Model"
      ]
    },
    {
      "cell_type": "code",
      "metadata": {
        "id": "Q_Kdh45PdYnK"
      },
      "source": [
        "#reshape the data to fit the model\r\n",
        "X_train = X_train.reshape(60000, 28, 28,1)\r\n",
        "X_test = X_test.reshape(10000, 28, 28, 1)"
      ],
      "execution_count": 34,
      "outputs": []
    },
    {
      "cell_type": "code",
      "metadata": {
        "id": "9qHdHl2Xeilj"
      },
      "source": [
        "# Convert Categorical Data to Numerical Data by using one hot encoding\r\n",
        "y_train_num = to_categorical(y_train)\r\n",
        "y_test_num = to_categorical(y_test)"
      ],
      "execution_count": 35,
      "outputs": []
    },
    {
      "cell_type": "code",
      "metadata": {
        "id": "Lq7DPa7zdjLa"
      },
      "source": [
        "#Build th model\r\n",
        "model = Sequential()\r\n",
        "#add model layers\r\n",
        "model.add(Conv2D(64, kernel_size=3, activation = 'relu', input_shape=(28,28,1))) # input layer\r\n",
        "model.add(Conv2D(32, kernel_size=3, activation = 'relu')) # Second (hidden) layer\r\n",
        "model.add(Flatten()) # Flatten to process\r\n",
        "model.add(Dense(10,activation = 'softmax')) #output layer"
      ],
      "execution_count": 36,
      "outputs": []
    },
    {
      "cell_type": "code",
      "metadata": {
        "id": "uERb8YDQdxm4"
      },
      "source": [
        "#compile the model\r\n",
        "model.compile(\r\n",
        "    optimizer='adam', \r\n",
        "    loss='categorical_crossentropy', \r\n",
        "    metrics=['accuracy']\r\n",
        ")"
      ],
      "execution_count": 37,
      "outputs": []
    },
    {
      "cell_type": "markdown",
      "metadata": {
        "id": "jj4JNGd3W21o"
      },
      "source": [
        "4. Train the Model"
      ]
    },
    {
      "cell_type": "code",
      "metadata": {
        "colab": {
          "base_uri": "https://localhost:8080/"
        },
        "id": "CmBk05l7fkze",
        "outputId": "f9bdc57f-954e-4b51-88d2-bed579d577e4"
      },
      "source": [
        "#train the model\r\n",
        "model.fit(\r\n",
        "    X_train,\r\n",
        "    y_train_num, \r\n",
        "    epochs = 3\r\n",
        ")\r\n"
      ],
      "execution_count": 38,
      "outputs": [
        {
          "output_type": "stream",
          "text": [
            "Epoch 1/3\n",
            "1875/1875 [==============================] - 167s 89ms/step - loss: 0.5256 - accuracy: 0.9171\n",
            "Epoch 2/3\n",
            "1875/1875 [==============================] - 167s 89ms/step - loss: 0.0568 - accuracy: 0.9823\n",
            "Epoch 3/3\n",
            "1875/1875 [==============================] - 168s 90ms/step - loss: 0.0391 - accuracy: 0.9877\n"
          ],
          "name": "stdout"
        },
        {
          "output_type": "execute_result",
          "data": {
            "text/plain": [
              "<tensorflow.python.keras.callbacks.History at 0x7f20997c4e48>"
            ]
          },
          "metadata": {
            "tags": []
          },
          "execution_count": 38
        }
      ]
    },
    {
      "cell_type": "markdown",
      "metadata": {
        "id": "H491a6GuRD2R"
      },
      "source": [
        "5. Testing the model"
      ]
    },
    {
      "cell_type": "code",
      "metadata": {
        "colab": {
          "base_uri": "https://localhost:8080/",
          "height": 282
        },
        "id": "XFCrFA2aZbAN",
        "outputId": "43fe3e12-1c5c-493b-e236-932fbe1e83cb"
      },
      "source": [
        "i = random.randint(1,10000)\r\n",
        "plt.imshow(X_test[i].reshape(28,28))\r\n",
        "predictions = model.predict(X_test)\r\n",
        "print(predictions[i].argmax())\r\n"
      ],
      "execution_count": 112,
      "outputs": [
        {
          "output_type": "stream",
          "text": [
            "5\n"
          ],
          "name": "stdout"
        },
        {
          "output_type": "display_data",
          "data": {
            "image/png": "[encoded data removed]",
            "text/plain": [
              "<Figure size 432x288 with 1 Axes>"
            ]
          },
          "metadata": {
            "tags": [],
            "needs_background": "light"
          }
        }
      ]
    }
  ]
}